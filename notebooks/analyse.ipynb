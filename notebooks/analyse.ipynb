{
 "cells": [
  {
   "cell_type": "markdown",
   "metadata": {
    "tags": []
   },
   "source": [
    "# Analyse Bouwgegevens per Gewest\n",
    "\n",
    "Deze notebook toont de evolutie van renovaties en nieuwbouw voor de drie gewesten in België:\n",
    "- Vlaams Gewest\n",
    "- Waals Gewest  \n",
    "- Brussels Hoofdstedelijk Gewest\n",
    "\n",
    "Voor elke grafiek worden de maandelijkse gegevens getoond als stippellijn en het 12-maands voortschrijdend gemiddelde als volle lijn."
   ]
  },
  {
   "cell_type": "code",
   "execution_count": null,
   "metadata": {
    "jupyter": {
     "source_hidden": true
    },
    "tags": []
   },
   "outputs": [],
   "source": [
    "import pandas as pd\n",
    "import plotly.graph_objects as go\n",
    "import plotly.express as px\n",
    "from plotly.subplots import make_subplots\n",
    "import warnings\n",
    "warnings.filterwarnings('ignore')\n",
    "\n",
    "# Configure plotly to show charts in notebook\n",
    "import plotly.io as pio\n",
    "pio.renderers.default = \"notebook\""
   ]
  },
  {
   "cell_type": "code",
   "execution_count": null,
   "metadata": {
    "jupyter": {
     "source_hidden": true
    },
    "tags": []
   },
   "outputs": [],
   "source": [
    "# Load the data\n",
    "renovatie_df = pd.read_csv('data/csv/Renovatie_per_bestemming.csv')\n",
    "nieuwbouw_df = pd.read_csv('data/csv/Bouwvergunningen_voor_woongebouwen,_indeling_naar_arrondissementen.csv')\n",
    "\n",
    "print(\"Renovatie data shape:\", renovatie_df.shape)\n",
    "print(\"Nieuwbouw data shape:\", nieuwbouw_df.shape)\n",
    "print(\"\\nRenovatie columns:\", renovatie_df.columns.tolist())\n",
    "print(\"Nieuwbouw columns:\", nieuwbouw_df.columns.tolist())\n",
    "\n",
    "# Check unique regions in both datasets\n",
    "print(\"\\nUnique regions in renovatie data:\")\n",
    "print(renovatie_df['regio'].unique())\n",
    "print(\"\\nUnique regions in nieuwbouw data:\")\n",
    "print(nieuwbouw_df['regio'].unique())"
   ]
  },
  {
   "cell_type": "code",
   "execution_count": null,
   "metadata": {
    "jupyter": {
     "source_hidden": true
    },
    "tags": []
   },
   "outputs": [],
   "source": [
    "# Filter nieuwbouw data to only include the three main regions\n",
    "gewesten = ['VLAAMS GEWEST', 'WAALS GEWEST', 'BRUSSELS HOOFDSTEDELIJK GEWEST']\n",
    "nieuwbouw_filtered = nieuwbouw_df[nieuwbouw_df['regio'].isin(gewesten)].copy()\n",
    "\n",
    "# Convert month names to numbers for proper sorting\n",
    "month_mapping = {\n",
    "    'Januari': 1, 'Februari': 2, 'Maart': 3, 'April': 4, 'Mei': 5, 'Juni': 6,\n",
    "    'Juli': 7, 'Augustus': 8, 'September': 9, 'Oktober': 10, 'November': 11, 'December': 12\n",
    "}\n",
    "\n",
    "# Prepare nieuwbouw data\n",
    "nieuwbouw_filtered['maand_num'] = nieuwbouw_filtered['maand'].map(month_mapping)\n",
    "nieuwbouw_filtered['date'] = pd.to_datetime(dict(year=nieuwbouw_filtered['jaar'], \n",
    "                                                 month=nieuwbouw_filtered['maand_num'], \n",
    "                                                 day=1))\n",
    "nieuwbouw_agg = nieuwbouw_filtered.groupby(['regio', 'date'])['aantal woningen'].sum().reset_index()\n",
    "\n",
    "# Prepare renovatie data - aggregate by region, year, month\n",
    "renovatie_df['date'] = pd.to_datetime(dict(year=renovatie_df['jaar'], \n",
    "                                          month=renovatie_df['maand'], \n",
    "                                          day=1))\n",
    "renovatie_agg = renovatie_df.groupby(['regio', 'date'])['woningen'].sum().reset_index()\n",
    "\n",
    "print(\"Nieuwbouw aggregated data shape:\", nieuwbouw_agg.shape)\n",
    "print(\"Renovatie aggregated data shape:\", renovatie_agg.shape)\n",
    "print(\"\\nDate range for nieuwbouw:\", nieuwbouw_agg['date'].min(), \"to\", nieuwbouw_agg['date'].max())\n",
    "print(\"Date range for renovatie:\", renovatie_agg['date'].min(), \"to\", renovatie_agg['date'].max())"
   ]
  },
  {
   "cell_type": "code",
   "execution_count": null,
   "metadata": {
    "jupyter": {
     "source_hidden": true
    },
    "tags": []
   },
   "outputs": [],
   "source": [
    "def calculate_moving_average(df, value_col, date_col='date', window=12):\n",
    "    \"\"\"Calculate 12-month moving average for each region\"\"\"\n",
    "    df_sorted = df.sort_values(['regio', date_col])\n",
    "    df_sorted[f'{value_col}_ma'] = df_sorted.groupby('regio')[value_col].rolling(window=window, min_periods=1).mean().reset_index(0, drop=True)\n",
    "    return df_sorted\n",
    "\n",
    "def create_chart(data, value_col, title_type, y_axis_title, gewest_name):\n",
    "    \"\"\"Create a plotly chart with monthly data and moving average using Flemish number formatting\"\"\"\n",
    "    \n",
    "    # Define color for this gewest\n",
    "    colors = {\n",
    "        'VLAAMS GEWEST': '#1f77b4',\n",
    "        'WAALS GEWEST': '#ff7f0e', \n",
    "        'BRUSSELS HOOFDSTEDELIJK GEWEST': '#2ca02c'\n",
    "    }\n",
    "    \n",
    "    color = colors.get(gewest_name, '#d62728')\n",
    "    \n",
    "    # Filter data for this gewest\n",
    "    gewest_data = data[data['regio'] == gewest_name].sort_values('date')\n",
    "    \n",
    "    # Get date range for the title\n",
    "    start_date = gewest_data['date'].min().strftime('%Y')\n",
    "    end_date = gewest_data['date'].max().strftime('%B %Y')\n",
    "    \n",
    "    # Create comprehensive, publication-ready titles with correct Dutch capitalization\n",
    "    if title_type == 'nieuwbouw':\n",
    "        main_title = f\"Evolutie bouwvergunningen voor nieuwbouw woongebouwen\"\n",
    "        subtitle = f\"{gewest_name} ({start_date} - {end_date})\"\n",
    "        source_info = \"Bron: Statbel, bouwvergunningen voor woongebouwen per arrondissement | Verwerking: Embuild Vlaanderen\"\n",
    "    else:  # renovatie\n",
    "        main_title = f\"Evolutie renovatievergunningen voor woongebouwen\"\n",
    "        subtitle = f\"{gewest_name} ({start_date} - {end_date})\"\n",
    "        source_info = \"Bron: Statbel, renovaties per bestemming | Verwerking: Embuild Vlaanderen\"\n",
    "    \n",
    "    # Title without source info (source will be added as annotation below chart)\n",
    "    chart_title = f\"<b>{main_title}</b><br><sub>{subtitle}</sub>\"\n",
    "    \n",
    "    # Create custom hover text with Flemish formatting\n",
    "    monthly_hover_text = []\n",
    "    ma_hover_text = []\n",
    "    \n",
    "    for _, row in gewest_data.iterrows():\n",
    "        date_str = row['date'].strftime('%B %Y')  # More readable date format\n",
    "        monthly_val = format_flemish_number(row[value_col], 0)\n",
    "        ma_val = format_flemish_number(row[f'{value_col}_ma'], 1)\n",
    "        \n",
    "        monthly_hover_text.append(f'<b>Maandelijks</b><br>Periode: {date_str}<br>{y_axis_title}: {monthly_val}')\n",
    "        ma_hover_text.append(f'<b>12-maands voortschrijdend gemiddelde</b><br>Periode: {date_str}<br>{y_axis_title}: {ma_val}')\n",
    "    \n",
    "    fig = go.Figure()\n",
    "    \n",
    "    # Add monthly data (dashed line)\n",
    "    fig.add_trace(go.Scatter(\n",
    "        x=gewest_data['date'],\n",
    "        y=gewest_data[value_col],\n",
    "        mode='lines',\n",
    "        name=f'Maandelijks',\n",
    "        line=dict(color=color, dash='dash', width=2),\n",
    "        hovertemplate='%{text}<extra></extra>',\n",
    "        text=monthly_hover_text\n",
    "    ))\n",
    "    \n",
    "    # Add 12-month moving average (solid line)\n",
    "    fig.add_trace(go.Scatter(\n",
    "        x=gewest_data['date'],\n",
    "        y=gewest_data[f'{value_col}_ma'],\n",
    "        mode='lines',\n",
    "        name=f'12-maands voortschrijdend gemiddelde',\n",
    "        line=dict(color=color, width=4),\n",
    "        hovertemplate='%{text}<extra></extra>',\n",
    "        text=ma_hover_text\n",
    "    ))\n",
    "    \n",
    "    fig.update_layout(\n",
    "        title=dict(\n",
    "            text=chart_title,\n",
    "            x=0.5,\n",
    "            font=dict(size=14),\n",
    "            pad=dict(t=20, b=20)\n",
    "        ),\n",
    "        xaxis_title='<b>Periode</b>',\n",
    "        yaxis_title=f'<b>{y_axis_title}</b>',\n",
    "        hovermode='x unified',\n",
    "        template='plotly_white',\n",
    "        legend=dict(\n",
    "            orientation=\"h\",\n",
    "            yanchor=\"bottom\",\n",
    "            y=1.02,\n",
    "            xanchor=\"center\",\n",
    "            x=0.5,\n",
    "            font=dict(size=11)\n",
    "        ),\n",
    "        height=520,  # Extra height for source annotation below\n",
    "        margin=dict(t=100, b=80, l=50, r=50),  # More bottom margin for source\n",
    "        plot_bgcolor='rgba(248,249,250,0.8)',\n",
    "        font=dict(family=\"Arial, sans-serif\")\n",
    "    )\n",
    "    \n",
    "    # Add source information as annotation below the chart\n",
    "    fig.add_annotation(\n",
    "        text=f\"<i>{source_info}</i>\",\n",
    "        xref=\"paper\", yref=\"paper\",\n",
    "        x=0.5, y=-0.12,  # Position below the chart\n",
    "        xanchor='center', yanchor='top',\n",
    "        showarrow=False,\n",
    "        font=dict(size=9, color=\"#666666\"),\n",
    "        bgcolor=\"rgba(255,255,255,0.8)\",\n",
    "        bordercolor=\"rgba(200,200,200,0.5)\",\n",
    "        borderwidth=1\n",
    "    )\n",
    "    \n",
    "    # Add subtle grid for better readability\n",
    "    fig.update_xaxes(\n",
    "        showgrid=True, \n",
    "        gridwidth=1, \n",
    "        gridcolor='rgba(128,128,128,0.2)',\n",
    "        tickformat='%Y'\n",
    "    )\n",
    "    fig.update_yaxes(\n",
    "        showgrid=True, \n",
    "        gridwidth=1, \n",
    "        gridcolor='rgba(128,128,128,0.2)',\n",
    "        tickformat=',',\n",
    "        separatethousands=True\n",
    "    )\n",
    "    \n",
    "    return fig\n",
    "\n",
    "# Calculate moving averages\n",
    "nieuwbouw_with_ma = calculate_moving_average(nieuwbouw_agg, 'aantal woningen')\n",
    "renovatie_with_ma = calculate_moving_average(renovatie_agg, 'woningen')"
   ]
  },
  {
   "cell_type": "code",
   "execution_count": null,
   "metadata": {
    "jupyter": {
     "source_hidden": true
    },
    "tags": []
   },
   "outputs": [],
   "source": [
    "def format_flemish_number(number, decimals=0):\n",
    "    \"\"\"Format number using Flemish notation: periods for thousands, commas for decimals\"\"\"\n",
    "    if pd.isna(number):\n",
    "        return \"\"\n",
    "    \n",
    "    if decimals == 0:\n",
    "        # For integers, format with periods as thousands separators\n",
    "        return f\"{int(number):,}\".replace(\",\", \".\")\n",
    "    else:\n",
    "        # For decimals, format with periods for thousands and comma for decimal\n",
    "        formatted = f\"{number:,.{decimals}f}\"\n",
    "        # Replace comma (thousands) with periods and dot (decimal) with comma\n",
    "        return formatted.replace(\",\", \"X\").replace(\".\", \",\").replace(\"X\", \".\")\n",
    "\n",
    "def create_data_table(data, gewest_name, data_type):\n",
    "    \"\"\"Create a scrollable HTML table for the data with Flemish number formatting\"\"\"\n",
    "    from IPython.display import HTML\n",
    "    \n",
    "    # Filter data for this gewest\n",
    "    gewest_data = data[data['regio'] == gewest_name].sort_values('date', ascending=False)\n",
    "    \n",
    "    # Format the data for display\n",
    "    display_data = gewest_data.copy()\n",
    "    display_data['Datum'] = display_data['date'].dt.strftime('%d-%m-%Y')  # Also use Flemish date format\n",
    "    \n",
    "    if data_type == 'nieuwbouw':\n",
    "        display_data['Aantal Woningen'] = display_data['aantal woningen'].apply(lambda x: format_flemish_number(x, 0))\n",
    "        display_data['12-maands Gemiddelde'] = display_data['aantal woningen_ma'].apply(lambda x: format_flemish_number(x, 1))\n",
    "        value_cols = ['Datum', 'Aantal Woningen', '12-maands Gemiddelde']\n",
    "    else:  # renovatie\n",
    "        display_data['Aantal Woningen'] = display_data['woningen'].apply(lambda x: format_flemish_number(x, 0))\n",
    "        display_data['12-maands Gemiddelde'] = display_data['woningen_ma'].apply(lambda x: format_flemish_number(x, 1))\n",
    "        value_cols = ['Datum', 'Aantal Woningen', '12-maands Gemiddelde']\n",
    "    \n",
    "    # Create HTML table\n",
    "    table_html = f\"\"\"\n",
    "    <div style=\"margin-top: 20px;\">\n",
    "        <h4>{data_type.title()} Data - {gewest_name}</h4>\n",
    "        <div style=\"max-height: 400px; overflow-y: auto; border: 1px solid #ddd;\">\n",
    "            <table style=\"width: 100%; border-collapse: collapse; font-family: Arial, sans-serif;\">\n",
    "                <thead style=\"background-color: #f2f2f2; position: sticky; top: 0;\">\n",
    "                    <tr>\n",
    "    \"\"\"\n",
    "    \n",
    "    for col in value_cols:\n",
    "        table_html += f'<th style=\"border: 1px solid #ddd; padding: 8px; text-align: left;\">{col}</th>'\n",
    "    \n",
    "    table_html += \"\"\"\n",
    "                    </tr>\n",
    "                </thead>\n",
    "                <tbody>\n",
    "    \"\"\"\n",
    "    \n",
    "    for _, row in display_data[value_cols].iterrows():\n",
    "        table_html += \"<tr>\"\n",
    "        for col in value_cols:\n",
    "            align = \"right\" if col != \"Datum\" else \"left\"  # Right-align numbers, left-align dates\n",
    "            table_html += f'<td style=\"border: 1px solid #ddd; padding: 8px; text-align: {align};\">{row[col]}</td>'\n",
    "        table_html += \"</tr>\"\n",
    "    \n",
    "    table_html += \"\"\"\n",
    "                </tbody>\n",
    "            </table>\n",
    "        </div>\n",
    "        <p style=\"font-size: 12px; color: #666; margin-top: 10px;\">\n",
    "            <em>Tabel toont de meest recente data bovenaan. Scroll om oudere gegevens te bekijken. Getallen volgen Vlaamse notatie (punten voor duizendtallen, komma's voor decimalen).</em>\n",
    "        </p>\n",
    "    </div>\n",
    "    \"\"\"\n",
    "    \n",
    "    return HTML(table_html)"
   ]
  },
  {
   "cell_type": "markdown",
   "metadata": {
    "tags": []
   },
   "source": [
    "## Vlaams Gewest\n",
    "\n",
    "### Nieuwbouw en renovaties in het Vlaams Gewest"
   ]
  },
  {
   "cell_type": "code",
   "execution_count": null,
   "metadata": {
    "jupyter": {
     "source_hidden": true
    },
    "tags": []
   },
   "outputs": [],
   "source": [
    "# Nieuwbouw - Vlaams Gewest\n",
    "fig_vlaams_nieuwbouw = create_chart(\n",
    "    nieuwbouw_with_ma, \n",
    "    'aantal woningen', \n",
    "    'nieuwbouw',  # Updated parameter\n",
    "    'Aantal Woningen',\n",
    "    'VLAAMS GEWEST'\n",
    ")\n",
    "fig_vlaams_nieuwbouw.show()\n",
    "\n",
    "# Display data table\n",
    "display(create_data_table(nieuwbouw_with_ma, 'VLAAMS GEWEST', 'nieuwbouw'))"
   ]
  },
  {
   "cell_type": "code",
   "execution_count": null,
   "metadata": {
    "jupyter": {
     "source_hidden": true
    },
    "tags": []
   },
   "outputs": [],
   "source": [
    "# Renovatie - Vlaams Gewest\n",
    "fig_vlaams_renovatie = create_chart(\n",
    "    renovatie_with_ma, \n",
    "    'woningen', \n",
    "    'renovatie',  # Updated parameter\n",
    "    'Aantal Woningen',\n",
    "    'VLAAMS GEWEST'\n",
    ")\n",
    "fig_vlaams_renovatie.show()\n",
    "\n",
    "# Display data table\n",
    "display(create_data_table(renovatie_with_ma, 'VLAAMS GEWEST', 'renovatie'))"
   ]
  },
  {
   "cell_type": "markdown",
   "metadata": {
    "tags": []
   },
   "source": [
    "## Waals Gewest\n",
    "\n",
    "### Nieuwbouw en Renovaties in het Waals Gewest"
   ]
  },
  {
   "cell_type": "code",
   "execution_count": null,
   "metadata": {
    "jupyter": {
     "source_hidden": true
    },
    "tags": []
   },
   "outputs": [],
   "source": [
    "# Nieuwbouw - Waals Gewest\n",
    "fig_waals_nieuwbouw = create_chart(\n",
    "    nieuwbouw_with_ma, \n",
    "    'aantal woningen', \n",
    "    'nieuwbouw',  # Updated parameter\n",
    "    'Aantal Woningen',\n",
    "    'WAALS GEWEST'\n",
    ")\n",
    "fig_waals_nieuwbouw.show()\n",
    "\n",
    "# Display data table\n",
    "display(create_data_table(nieuwbouw_with_ma, 'WAALS GEWEST', 'nieuwbouw'))"
   ]
  },
  {
   "cell_type": "code",
   "execution_count": null,
   "metadata": {
    "jupyter": {
     "source_hidden": true
    },
    "tags": []
   },
   "outputs": [],
   "source": [
    "# Renovatie - Waals Gewest\n",
    "fig_waals_renovatie = create_chart(\n",
    "    renovatie_with_ma, \n",
    "    'woningen', \n",
    "    'renovatie',  # Updated parameter\n",
    "    'Aantal Woningen',\n",
    "    'WAALS GEWEST'\n",
    ")\n",
    "fig_waals_renovatie.show()\n",
    "\n",
    "# Display data table\n",
    "display(create_data_table(renovatie_with_ma, 'WAALS GEWEST', 'renovatie'))"
   ]
  },
  {
   "cell_type": "markdown",
   "metadata": {
    "tags": []
   },
   "source": [
    "## Brussels Hoofdstedelijk Gewest\n",
    "\n",
    "### Nieuwbouw en Renovaties in het Brussels Hoofdstedelijk Gewest"
   ]
  },
  {
   "cell_type": "code",
   "execution_count": null,
   "metadata": {
    "jupyter": {
     "source_hidden": true
    },
    "tags": []
   },
   "outputs": [],
   "source": [
    "# Nieuwbouw - Brussels Hoofdstedelijk Gewest\n",
    "fig_brussel_nieuwbouw = create_chart(\n",
    "    nieuwbouw_with_ma, \n",
    "    'aantal woningen', \n",
    "    'nieuwbouw',  # Updated parameter\n",
    "    'Aantal Woningen',\n",
    "    'BRUSSELS HOOFDSTEDELIJK GEWEST'\n",
    ")\n",
    "fig_brussel_nieuwbouw.show()\n",
    "\n",
    "# Display data table\n",
    "display(create_data_table(nieuwbouw_with_ma, 'BRUSSELS HOOFDSTEDELIJK GEWEST', 'nieuwbouw'))"
   ]
  },
  {
   "cell_type": "code",
   "execution_count": null,
   "metadata": {
    "jupyter": {
     "source_hidden": true
    },
    "tags": []
   },
   "outputs": [],
   "source": [
    "# Renovatie - Brussels Hoofdstedelijk Gewest\n",
    "fig_brussel_renovatie = create_chart(\n",
    "    renovatie_with_ma, \n",
    "    'woningen', \n",
    "    'renovatie',  # Updated parameter\n",
    "    'Aantal Woningen',\n",
    "    'BRUSSELS HOOFDSTEDELIJK GEWEST'\n",
    ")\n",
    "fig_brussel_renovatie.show()\n",
    "\n",
    "# Display data table\n",
    "display(create_data_table(renovatie_with_ma, 'BRUSSELS HOOFDSTEDELIJK GEWEST', 'renovatie'))"
   ]
  }
 ],
 "metadata": {
  "kernelspec": {
   "display_name": "Python 3",
   "language": "python",
   "name": "python3"
  },
  "language_info": {
   "codemirror_mode": {
    "name": "ipython",
    "version": 3
   },
   "file_extension": ".py",
   "mimetype": "text/x-python",
   "name": "python",
   "nbconvert_exporter": "python",
   "pygments_lexer": "ipython3",
   "version": "3.11.0"
  }
 },
 "nbformat": 4,
 "nbformat_minor": 4
}